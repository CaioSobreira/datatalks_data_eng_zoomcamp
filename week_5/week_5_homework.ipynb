{
 "cells": [
  {
   "cell_type": "code",
   "execution_count": 6,
   "id": "00e4d603",
   "metadata": {},
   "outputs": [],
   "source": [
    "import findspark\n",
    "findspark.init()"
   ]
  },
  {
   "cell_type": "code",
   "execution_count": 7,
   "id": "7ebec435",
   "metadata": {},
   "outputs": [],
   "source": [
    "import pyspark\n",
    "from pyspark.sql import SparkSession"
   ]
  },
  {
   "cell_type": "code",
   "execution_count": 8,
   "id": "ac47ee59",
   "metadata": {},
   "outputs": [],
   "source": [
    "from pyspark.sql import functions as F"
   ]
  },
  {
   "cell_type": "code",
   "execution_count": 9,
   "id": "dadb5bd8",
   "metadata": {},
   "outputs": [
    {
     "name": "stderr",
     "output_type": "stream",
     "text": [
      "22/03/07 07:20:22 WARN Utils: Your hostname, caio-HP-Probook resolves to a loopback address: 127.0.1.1; using 192.168.0.13 instead (on interface enp5s0)\n",
      "22/03/07 07:20:22 WARN Utils: Set SPARK_LOCAL_IP if you need to bind to another address\n",
      "WARNING: An illegal reflective access operation has occurred\n",
      "WARNING: Illegal reflective access by org.apache.spark.unsafe.Platform (file:/opt/spark-3.0.3-bin-hadoop3.2/jars/spark-unsafe_2.12-3.0.3.jar) to constructor java.nio.DirectByteBuffer(long,int)\n",
      "WARNING: Please consider reporting this to the maintainers of org.apache.spark.unsafe.Platform\n",
      "WARNING: Use --illegal-access=warn to enable warnings of further illegal reflective access operations\n",
      "WARNING: All illegal access operations will be denied in a future release\n",
      "22/03/07 07:20:23 WARN NativeCodeLoader: Unable to load native-hadoop library for your platform... using builtin-java classes where applicable\n",
      "Using Spark's default log4j profile: org/apache/spark/log4j-defaults.properties\n",
      "Setting default log level to \"WARN\".\n",
      "To adjust logging level use sc.setLogLevel(newLevel). For SparkR, use setLogLevel(newLevel).\n"
     ]
    }
   ],
   "source": [
    "spark = SparkSession.builder \\\n",
    "        .master(\"local[*]\") \\\n",
    "        .appName('test') \\\n",
    "        .getOrCreate()"
   ]
  },
  {
   "cell_type": "code",
   "execution_count": 4,
   "id": "65e53d72",
   "metadata": {},
   "outputs": [
    {
     "name": "stdout",
     "output_type": "stream",
     "text": [
      "--2022-03-06 13:34:03--  https://nyc-tlc.s3.amazonaws.com/trip+data/fhvhv_tripdata_2021-02.csv\n",
      "Resolvendo nyc-tlc.s3.amazonaws.com (nyc-tlc.s3.amazonaws.com)... 52.217.79.36\n",
      "Conectando-se a nyc-tlc.s3.amazonaws.com (nyc-tlc.s3.amazonaws.com)|52.217.79.36|:443... conectado.\n",
      "A requisição HTTP foi enviada, aguardando resposta... 200 OK\n",
      "Tamanho: 733822658 (700M) [text/csv]\n",
      "Salvando em: “fhvhv_tripdata_2021-02.csv”\n",
      "\n",
      "fhvhv_tripdata_2021 100%[===================>] 699,83M  4,63MB/s    em 1m 58s  \n",
      "\n",
      "2022-03-06 13:36:02 (5,91 MB/s) - “fhvhv_tripdata_2021-02.csv” salvo [733822658/733822658]\n",
      "\n"
     ]
    }
   ],
   "source": [
    "!wget https://nyc-tlc.s3.amazonaws.com/trip+data/fhvhv_tripdata_2021-02.csv"
   ]
  },
  {
   "cell_type": "code",
   "execution_count": 5,
   "id": "4133616e",
   "metadata": {},
   "outputs": [
    {
     "name": "stdout",
     "output_type": "stream",
     "text": [
      "11908469 fhvhv_tripdata_2021-01.csv\r\n"
     ]
    }
   ],
   "source": [
    "!wc -l fhvhv_tripdata_2021-02.csv"
   ]
  },
  {
   "cell_type": "code",
   "execution_count": 6,
   "id": "0f0f9b79",
   "metadata": {},
   "outputs": [],
   "source": [
    "df = spark.read \\\n",
    "    .option(\"header\", \"true\") \\\n",
    "    .csv('fhvhv_tripdata_2021-02.csv')"
   ]
  },
  {
   "cell_type": "code",
   "execution_count": 7,
   "id": "a56c0eda",
   "metadata": {},
   "outputs": [
    {
     "name": "stdout",
     "output_type": "stream",
     "text": [
      "+-----------------+--------------------+-------------------+-------------------+------------+------------+-------+\n",
      "|hvfhs_license_num|dispatching_base_num|    pickup_datetime|   dropoff_datetime|PULocationID|DOLocationID|SR_Flag|\n",
      "+-----------------+--------------------+-------------------+-------------------+------------+------------+-------+\n",
      "|           HV0003|              B02764|2021-02-01 00:10:40|2021-02-01 00:21:09|          35|          39|   null|\n",
      "|           HV0003|              B02764|2021-02-01 00:27:23|2021-02-01 00:44:01|          39|          35|   null|\n",
      "|           HV0005|              B02510|2021-02-01 00:28:38|2021-02-01 00:38:27|          39|          91|   null|\n",
      "|           HV0005|              B02510|2021-02-01 00:43:37|2021-02-01 01:23:20|          91|         228|   null|\n",
      "|           HV0003|              B02872|2021-02-01 00:08:42|2021-02-01 00:17:57|         126|         250|   null|\n",
      "|           HV0003|              B02872|2021-02-01 00:26:02|2021-02-01 00:42:51|         208|         243|   null|\n",
      "|           HV0003|              B02872|2021-02-01 00:45:50|2021-02-01 01:02:50|         243|         220|   null|\n",
      "|           HV0003|              B02764|2021-02-01 00:06:42|2021-02-01 00:31:50|          49|          37|   null|\n",
      "|           HV0003|              B02764|2021-02-01 00:34:34|2021-02-01 00:58:13|          37|          76|   null|\n",
      "|           HV0005|              B02510|2021-02-01 00:03:43|2021-02-01 00:39:37|          80|         241|   null|\n",
      "|           HV0005|              B02510|2021-02-01 00:55:36|2021-02-01 01:08:39|         174|          51|   null|\n",
      "|           HV0005|              B02510|2021-02-01 00:06:13|2021-02-01 00:33:45|         235|         129|   null|\n",
      "|           HV0005|              B02510|2021-02-01 00:42:24|2021-02-01 01:11:31|         129|         169|   null|\n",
      "|           HV0003|              B02764|2021-02-01 00:07:05|2021-02-01 00:20:53|         226|          82|   null|\n",
      "|           HV0003|              B02764|2021-02-01 00:28:56|2021-02-01 00:33:59|          82|         129|   null|\n",
      "|           HV0003|              B02764|2021-02-01 00:44:53|2021-02-01 01:07:54|           7|          79|   null|\n",
      "|           HV0003|              B02888|2021-02-01 00:17:55|2021-02-01 00:34:41|           4|         170|   null|\n",
      "|           HV0003|              B02888|2021-02-01 00:38:14|2021-02-01 00:59:20|         164|          42|   null|\n",
      "|           HV0004|              B02800|2021-02-01 00:08:04|2021-02-01 00:24:41|         237|           4|   null|\n",
      "|           HV0004|              B02800|2021-02-01 00:30:44|2021-02-01 00:41:26|         107|          45|   null|\n",
      "+-----------------+--------------------+-------------------+-------------------+------------+------------+-------+\n",
      "only showing top 20 rows\n",
      "\n"
     ]
    }
   ],
   "source": [
    "df.show()"
   ]
  },
  {
   "cell_type": "code",
   "execution_count": 8,
   "id": "20af6b58",
   "metadata": {},
   "outputs": [
    {
     "data": {
      "text/plain": [
       "[Row(hvfhs_license_num='HV0003', dispatching_base_num='B02764', pickup_datetime='2021-02-01 00:10:40', dropoff_datetime='2021-02-01 00:21:09', PULocationID='35', DOLocationID='39', SR_Flag=None),\n",
       " Row(hvfhs_license_num='HV0003', dispatching_base_num='B02764', pickup_datetime='2021-02-01 00:27:23', dropoff_datetime='2021-02-01 00:44:01', PULocationID='39', DOLocationID='35', SR_Flag=None),\n",
       " Row(hvfhs_license_num='HV0005', dispatching_base_num='B02510', pickup_datetime='2021-02-01 00:28:38', dropoff_datetime='2021-02-01 00:38:27', PULocationID='39', DOLocationID='91', SR_Flag=None),\n",
       " Row(hvfhs_license_num='HV0005', dispatching_base_num='B02510', pickup_datetime='2021-02-01 00:43:37', dropoff_datetime='2021-02-01 01:23:20', PULocationID='91', DOLocationID='228', SR_Flag=None),\n",
       " Row(hvfhs_license_num='HV0003', dispatching_base_num='B02872', pickup_datetime='2021-02-01 00:08:42', dropoff_datetime='2021-02-01 00:17:57', PULocationID='126', DOLocationID='250', SR_Flag=None)]"
      ]
     },
     "execution_count": 8,
     "metadata": {},
     "output_type": "execute_result"
    }
   ],
   "source": [
    "df.head(5)"
   ]
  },
  {
   "cell_type": "code",
   "execution_count": 9,
   "id": "02b608da",
   "metadata": {},
   "outputs": [
    {
     "data": {
      "text/plain": [
       "StructType(List(StructField(hvfhs_license_num,StringType,true),StructField(dispatching_base_num,StringType,true),StructField(pickup_datetime,StringType,true),StructField(dropoff_datetime,StringType,true),StructField(PULocationID,StringType,true),StructField(DOLocationID,StringType,true),StructField(SR_Flag,StringType,true)))"
      ]
     },
     "execution_count": 9,
     "metadata": {},
     "output_type": "execute_result"
    }
   ],
   "source": [
    "df.schema"
   ]
  },
  {
   "cell_type": "code",
   "execution_count": 10,
   "id": "5f0a3d47",
   "metadata": {},
   "outputs": [],
   "source": [
    "#UTILIZANDO APENAS O INÍCIO DO ARQUIVO PARA INFERIR OS TIPOS DE DADOS DAS COLUNAS\n",
    "!head -n 1001 fhvhv_tripdata_2021-02.csv > head_2.csv"
   ]
  },
  {
   "cell_type": "code",
   "execution_count": 31,
   "id": "b392fed9",
   "metadata": {},
   "outputs": [],
   "source": [
    "import pandas as pd"
   ]
  },
  {
   "cell_type": "code",
   "execution_count": 12,
   "id": "0bbe0478",
   "metadata": {},
   "outputs": [],
   "source": [
    "df_pandas = pd.read_csv('head_2.csv')"
   ]
  },
  {
   "cell_type": "code",
   "execution_count": 13,
   "id": "d8f6937b",
   "metadata": {},
   "outputs": [
    {
     "data": {
      "text/plain": [
       "hvfhs_license_num        object\n",
       "dispatching_base_num     object\n",
       "pickup_datetime          object\n",
       "dropoff_datetime         object\n",
       "PULocationID              int64\n",
       "DOLocationID              int64\n",
       "SR_Flag                 float64\n",
       "dtype: object"
      ]
     },
     "execution_count": 13,
     "metadata": {},
     "output_type": "execute_result"
    }
   ],
   "source": [
    "df_pandas.dtypes"
   ]
  },
  {
   "cell_type": "code",
   "execution_count": 14,
   "id": "20b40246",
   "metadata": {},
   "outputs": [
    {
     "data": {
      "text/plain": [
       "StructType(List(StructField(hvfhs_license_num,StringType,true),StructField(dispatching_base_num,StringType,true),StructField(pickup_datetime,StringType,true),StructField(dropoff_datetime,StringType,true),StructField(PULocationID,LongType,true),StructField(DOLocationID,LongType,true),StructField(SR_Flag,DoubleType,true)))"
      ]
     },
     "execution_count": 14,
     "metadata": {},
     "output_type": "execute_result"
    }
   ],
   "source": [
    "spark.createDataFrame(df_pandas).schema"
   ]
  },
  {
   "cell_type": "code",
   "execution_count": 10,
   "id": "6252ca03",
   "metadata": {},
   "outputs": [],
   "source": [
    "from pyspark.sql import types"
   ]
  },
  {
   "cell_type": "code",
   "execution_count": 16,
   "id": "0f8a2c89",
   "metadata": {},
   "outputs": [],
   "source": [
    "schema = types.StructType([\n",
    "    types.StructField('hvfhs_license_num', types.StringType(), True),\n",
    "    types.StructField('dispatching_base_num', types.StringType(), True),\n",
    "    types.StructField('pickup_datetime', types.TimestampType(), True),\n",
    "    types.StructField('dropoff_datetime', types.TimestampType(), True),\n",
    "    types.StructField('PULocationID', types.IntegerType(), True),\n",
    "    types.StructField('DOLocationID', types.IntegerType(), True),\n",
    "    types.StructField('SR_Flag', types.StringType(), True)\n",
    "])"
   ]
  },
  {
   "cell_type": "code",
   "execution_count": 17,
   "id": "79903063",
   "metadata": {},
   "outputs": [],
   "source": [
    "df = spark.read \\\n",
    "    .option(\"header\", \"true\") \\\n",
    "    .schema(schema) \\\n",
    "    .csv('fhvhv_tripdata_2021-02.csv')"
   ]
  },
  {
   "cell_type": "code",
   "execution_count": 18,
   "id": "eedd95b8",
   "metadata": {},
   "outputs": [
    {
     "data": {
      "text/plain": [
       "[Row(hvfhs_license_num='HV0003', dispatching_base_num='B02764', pickup_datetime=datetime.datetime(2021, 2, 1, 0, 10, 40), dropoff_datetime=datetime.datetime(2021, 2, 1, 0, 21, 9), PULocationID=35, DOLocationID=39, SR_Flag=None),\n",
       " Row(hvfhs_license_num='HV0003', dispatching_base_num='B02764', pickup_datetime=datetime.datetime(2021, 2, 1, 0, 27, 23), dropoff_datetime=datetime.datetime(2021, 2, 1, 0, 44, 1), PULocationID=39, DOLocationID=35, SR_Flag=None),\n",
       " Row(hvfhs_license_num='HV0005', dispatching_base_num='B02510', pickup_datetime=datetime.datetime(2021, 2, 1, 0, 28, 38), dropoff_datetime=datetime.datetime(2021, 2, 1, 0, 38, 27), PULocationID=39, DOLocationID=91, SR_Flag=None),\n",
       " Row(hvfhs_license_num='HV0005', dispatching_base_num='B02510', pickup_datetime=datetime.datetime(2021, 2, 1, 0, 43, 37), dropoff_datetime=datetime.datetime(2021, 2, 1, 1, 23, 20), PULocationID=91, DOLocationID=228, SR_Flag=None),\n",
       " Row(hvfhs_license_num='HV0003', dispatching_base_num='B02872', pickup_datetime=datetime.datetime(2021, 2, 1, 0, 8, 42), dropoff_datetime=datetime.datetime(2021, 2, 1, 0, 17, 57), PULocationID=126, DOLocationID=250, SR_Flag=None)]"
      ]
     },
     "execution_count": 18,
     "metadata": {},
     "output_type": "execute_result"
    }
   ],
   "source": [
    "df.head(5)"
   ]
  },
  {
   "cell_type": "code",
   "execution_count": 19,
   "id": "cdd4833c",
   "metadata": {},
   "outputs": [],
   "source": [
    "#DIVIDINDO O ARQUIVO GRANDE EM PEDACOS MENORES, PARA SER PROCESSADO DE MANEIRA DISTRIBUIDA PELO CLUSTER SPARK\n",
    "df = df.repartition(24)"
   ]
  },
  {
   "cell_type": "code",
   "execution_count": 20,
   "id": "99ba2c92",
   "metadata": {},
   "outputs": [
    {
     "name": "stderr",
     "output_type": "stream",
     "text": [
      "22/03/06 13:36:56 WARN MemoryManager: Total allocation exceeds 95,00% (1.020.054.720 bytes) of heap memory\n",
      "Scaling row group sizes to 95,00% for 8 writers\n",
      "22/03/06 13:36:56 WARN MemoryManager: Total allocation exceeds 95,00% (1.020.054.720 bytes) of heap memory\n",
      "Scaling row group sizes to 84,44% for 9 writers\n",
      "22/03/06 13:36:56 WARN MemoryManager: Total allocation exceeds 95,00% (1.020.054.720 bytes) of heap memory\n",
      "Scaling row group sizes to 76,00% for 10 writers\n",
      "22/03/06 13:36:56 WARN MemoryManager: Total allocation exceeds 95,00% (1.020.054.720 bytes) of heap memory\n",
      "Scaling row group sizes to 69,09% for 11 writers\n",
      "22/03/06 13:36:56 WARN MemoryManager: Total allocation exceeds 95,00% (1.020.054.720 bytes) of heap memory\n",
      "Scaling row group sizes to 63,33% for 12 writers\n",
      "22/03/06 13:36:56 WARN MemoryManager: Total allocation exceeds 95,00% (1.020.054.720 bytes) of heap memory\n",
      "Scaling row group sizes to 58,46% for 13 writers\n",
      "22/03/06 13:36:56 WARN MemoryManager: Total allocation exceeds 95,00% (1.020.054.720 bytes) of heap memory\n",
      "Scaling row group sizes to 54,29% for 14 writers\n",
      "22/03/06 13:36:56 WARN MemoryManager: Total allocation exceeds 95,00% (1.020.054.720 bytes) of heap memory\n",
      "Scaling row group sizes to 50,67% for 15 writers\n",
      "22/03/06 13:36:56 WARN MemoryManager: Total allocation exceeds 95,00% (1.020.054.720 bytes) of heap memory\n",
      "Scaling row group sizes to 47,50% for 16 writers\n",
      "22/03/06 13:36:56 WARN MemoryManager: Total allocation exceeds 95,00% (1.020.054.720 bytes) of heap memory\n",
      "Scaling row group sizes to 44,71% for 17 writers\n",
      "22/03/06 13:36:56 WARN MemoryManager: Total allocation exceeds 95,00% (1.020.054.720 bytes) of heap memory\n",
      "Scaling row group sizes to 42,22% for 18 writers\n",
      "22/03/06 13:36:56 WARN MemoryManager: Total allocation exceeds 95,00% (1.020.054.720 bytes) of heap memory\n",
      "Scaling row group sizes to 40,00% for 19 writers\n",
      "22/03/06 13:36:56 WARN MemoryManager: Total allocation exceeds 95,00% (1.020.054.720 bytes) of heap memory\n",
      "Scaling row group sizes to 38,00% for 20 writers\n",
      "22/03/06 13:36:56 WARN MemoryManager: Total allocation exceeds 95,00% (1.020.054.720 bytes) of heap memory\n",
      "Scaling row group sizes to 36,19% for 21 writers\n",
      "22/03/06 13:36:56 WARN MemoryManager: Total allocation exceeds 95,00% (1.020.054.720 bytes) of heap memory\n",
      "Scaling row group sizes to 34,55% for 22 writers\n",
      "22/03/06 13:36:56 WARN MemoryManager: Total allocation exceeds 95,00% (1.020.054.720 bytes) of heap memory\n",
      "Scaling row group sizes to 33,04% for 23 writers\n",
      "22/03/06 13:36:56 WARN MemoryManager: Total allocation exceeds 95,00% (1.020.054.720 bytes) of heap memory\n",
      "Scaling row group sizes to 31,67% for 24 writers\n",
      "22/03/06 13:37:01 WARN MemoryManager: Total allocation exceeds 95,00% (1.020.054.720 bytes) of heap memory\n",
      "Scaling row group sizes to 33,04% for 23 writers\n",
      "22/03/06 13:37:01 WARN MemoryManager: Total allocation exceeds 95,00% (1.020.054.720 bytes) of heap memory\n",
      "Scaling row group sizes to 34,55% for 22 writers\n",
      "22/03/06 13:37:01 WARN MemoryManager: Total allocation exceeds 95,00% (1.020.054.720 bytes) of heap memory\n",
      "Scaling row group sizes to 36,19% for 21 writers\n",
      "22/03/06 13:37:01 WARN MemoryManager: Total allocation exceeds 95,00% (1.020.054.720 bytes) of heap memory\n",
      "Scaling row group sizes to 38,00% for 20 writers\n",
      "22/03/06 13:37:01 WARN MemoryManager: Total allocation exceeds 95,00% (1.020.054.720 bytes) of heap memory\n",
      "Scaling row group sizes to 40,00% for 19 writers\n",
      "22/03/06 13:37:01 WARN MemoryManager: Total allocation exceeds 95,00% (1.020.054.720 bytes) of heap memory\n",
      "Scaling row group sizes to 42,22% for 18 writers\n",
      "22/03/06 13:37:01 WARN MemoryManager: Total allocation exceeds 95,00% (1.020.054.720 bytes) of heap memory\n",
      "Scaling row group sizes to 44,71% for 17 writers\n",
      "22/03/06 13:37:01 WARN MemoryManager: Total allocation exceeds 95,00% (1.020.054.720 bytes) of heap memory\n",
      "Scaling row group sizes to 47,50% for 16 writers\n",
      "22/03/06 13:37:01 WARN MemoryManager: Total allocation exceeds 95,00% (1.020.054.720 bytes) of heap memory\n",
      "Scaling row group sizes to 50,67% for 15 writers\n",
      "22/03/06 13:37:01 WARN MemoryManager: Total allocation exceeds 95,00% (1.020.054.720 bytes) of heap memory\n",
      "Scaling row group sizes to 54,29% for 14 writers\n",
      "22/03/06 13:37:01 WARN MemoryManager: Total allocation exceeds 95,00% (1.020.054.720 bytes) of heap memory\n",
      "Scaling row group sizes to 58,46% for 13 writers\n",
      "22/03/06 13:37:01 WARN MemoryManager: Total allocation exceeds 95,00% (1.020.054.720 bytes) of heap memory\n",
      "Scaling row group sizes to 63,33% for 12 writers\n",
      "22/03/06 13:37:01 WARN MemoryManager: Total allocation exceeds 95,00% (1.020.054.720 bytes) of heap memory\n",
      "Scaling row group sizes to 69,09% for 11 writers\n",
      "22/03/06 13:37:01 WARN MemoryManager: Total allocation exceeds 95,00% (1.020.054.720 bytes) of heap memory\n",
      "Scaling row group sizes to 76,00% for 10 writers\n",
      "22/03/06 13:37:01 WARN MemoryManager: Total allocation exceeds 95,00% (1.020.054.720 bytes) of heap memory\n",
      "Scaling row group sizes to 84,44% for 9 writers\n",
      "22/03/06 13:37:01 WARN MemoryManager: Total allocation exceeds 95,00% (1.020.054.720 bytes) of heap memory\n",
      "Scaling row group sizes to 95,00% for 8 writers\n",
      "                                                                                \r"
     ]
    }
   ],
   "source": [
    "df.write.parquet('fhvhv/2021/02/')"
   ]
  },
  {
   "cell_type": "code",
   "execution_count": 11,
   "id": "6e0fa1b1",
   "metadata": {},
   "outputs": [],
   "source": [
    "df = spark.read.parquet('fhvhv/2021/02/')"
   ]
  },
  {
   "cell_type": "code",
   "execution_count": 12,
   "id": "5440b41c",
   "metadata": {},
   "outputs": [
    {
     "name": "stdout",
     "output_type": "stream",
     "text": [
      "root\n",
      " |-- hvfhs_license_num: string (nullable = true)\n",
      " |-- dispatching_base_num: string (nullable = true)\n",
      " |-- pickup_datetime: timestamp (nullable = true)\n",
      " |-- dropoff_datetime: timestamp (nullable = true)\n",
      " |-- PULocationID: integer (nullable = true)\n",
      " |-- DOLocationID: integer (nullable = true)\n",
      " |-- SR_Flag: string (nullable = true)\n",
      "\n"
     ]
    }
   ],
   "source": [
    "df.printSchema()"
   ]
  },
  {
   "cell_type": "code",
   "execution_count": 43,
   "id": "93ba0adb",
   "metadata": {},
   "outputs": [
    {
     "data": {
      "text/plain": [
       "367170"
      ]
     },
     "execution_count": 43,
     "metadata": {},
     "output_type": "execute_result"
    }
   ],
   "source": [
    "df_q3 = df \\\n",
    "   .withColumn('pickup_date', F.to_date(df.pickup_datetime)) \\\n",
    "   .withColumn('dropoff_date', F.to_date(df.pickup_datetime)) \\\n",
    "   .select('pickup_date', 'dropoff_date', 'PULocationID', 'DOLocationID')\n",
    "    \n",
    "df_q3 \\\n",
    "    .filter(df_q3.pickup_date == '2021-02-15') \\\n",
    "    .count()\n"
   ]
  },
  {
   "cell_type": "code",
   "execution_count": 61,
   "id": "fd25547b",
   "metadata": {},
   "outputs": [
    {
     "name": "stderr",
     "output_type": "stream",
     "text": [
      "\r",
      "[Stage 30:=======>                                                (3 + 21) / 24]\r"
     ]
    },
    {
     "name": "stdout",
     "output_type": "stream",
     "text": [
      "+-----------+--------------------+\n",
      "|pickup_date|max_duration_minutes|\n",
      "+-----------+--------------------+\n",
      "| 2021-02-11|              1259.0|\n",
      "| 2021-02-17|              953.68|\n",
      "| 2021-02-20|              733.98|\n",
      "| 2021-02-03|              677.55|\n",
      "| 2021-02-19|              626.28|\n",
      "| 2021-02-25|               583.5|\n",
      "| 2021-02-18|              576.87|\n",
      "| 2021-02-10|              569.48|\n",
      "| 2021-02-21|              537.05|\n",
      "| 2021-02-09|              534.78|\n",
      "| 2021-02-06|              524.12|\n",
      "| 2021-02-02|              515.22|\n",
      "| 2021-02-05|              508.52|\n",
      "| 2021-02-12|              502.47|\n",
      "| 2021-02-08|              501.77|\n",
      "| 2021-02-14|              496.28|\n",
      "| 2021-02-22|               471.3|\n",
      "| 2021-02-27|              452.83|\n",
      "| 2021-02-15|              431.23|\n",
      "| 2021-02-04|              426.53|\n",
      "+-----------+--------------------+\n",
      "only showing top 20 rows\n",
      "\n"
     ]
    },
    {
     "name": "stderr",
     "output_type": "stream",
     "text": [
      "\r",
      "                                                                                \r"
     ]
    }
   ],
   "source": [
    "df_q4 = df \\\n",
    "    .withColumn('pickup_date', F.to_date(df.pickup_datetime)) \\\n",
    "    .withColumn(\"diff_seconds\", df.dropoff_datetime.cast(types.LongType()) - \n",
    "        df.pickup_datetime.cast(types.LongType()))\n",
    "\n",
    "df_q4.registerTempTable('df_q4')\n",
    "\n",
    "spark.sql(\"\"\"\n",
    "SELECT\n",
    "    pickup_date,\n",
    "    ROUND((max_duration / 60), 2) AS max_duration_minutes\n",
    "FROM\n",
    "    (SELECT\n",
    "        pickup_date,\n",
    "        MAX(diff_seconds) AS max_duration\n",
    "    FROM\n",
    "        df_q4\n",
    "    GROUP BY\n",
    "        pickup_date) q\n",
    "ORDER BY\n",
    "    max_duration DESC\n",
    "\"\"\").show()"
   ]
  },
  {
   "cell_type": "code",
   "execution_count": 65,
   "id": "19301400",
   "metadata": {},
   "outputs": [
    {
     "name": "stdout",
     "output_type": "stream",
     "text": [
      "+--------------------+-------+\n",
      "|dispatching_base_num|    qty|\n",
      "+--------------------+-------+\n",
      "|              B02510|3233664|\n",
      "|              B02764| 965568|\n",
      "|              B02872| 882689|\n",
      "|              B02875| 685390|\n",
      "|              B02765| 559768|\n",
      "|              B02869| 429720|\n",
      "|              B02887| 322331|\n",
      "|              B02871| 312364|\n",
      "|              B02864| 311603|\n",
      "|              B02866| 311089|\n",
      "|              B02878| 305185|\n",
      "|              B02682| 303255|\n",
      "|              B02617| 274510|\n",
      "|              B02883| 251617|\n",
      "|              B02884| 244963|\n",
      "|              B02882| 232173|\n",
      "|              B02876| 215693|\n",
      "|              B02879| 210137|\n",
      "|              B02867| 200530|\n",
      "|              B02877| 198938|\n",
      "+--------------------+-------+\n",
      "only showing top 20 rows\n",
      "\n"
     ]
    }
   ],
   "source": [
    "df_q5 = df \n",
    "\n",
    "df_q5.registerTempTable('df_q5')\n",
    "\n",
    "spark.sql(\"\"\"\n",
    "SELECT\n",
    "    dispatching_base_num,\n",
    "    COUNT(1) AS qty\n",
    "FROM\n",
    "    df_q5\n",
    "GROUP BY\n",
    "    dispatching_base_num\n",
    "ORDER BY\n",
    "    qty DESC\n",
    "\"\"\").show()"
   ]
  },
  {
   "cell_type": "code",
   "execution_count": 1,
   "id": "53af1439",
   "metadata": {},
   "outputs": [
    {
     "name": "stdout",
     "output_type": "stream",
     "text": [
      "--2022-03-07 07:15:48--  https://s3.amazonaws.com/nyc-tlc/misc/taxi+_zone_lookup.csv\n",
      "Resolvendo s3.amazonaws.com (s3.amazonaws.com)... 52.216.200.149\n",
      "Conectando-se a s3.amazonaws.com (s3.amazonaws.com)|52.216.200.149|:443... conectado.\n",
      "A requisição HTTP foi enviada, aguardando resposta... 200 OK\n",
      "Tamanho: 12322 (12K) [application/octet-stream]\n",
      "Salvando em: “taxi+_zone_lookup.csv.1”\n",
      "\n",
      "taxi+_zone_lookup.c 100%[===================>]  12,03K  --.-KB/s    em 0,002s  \n",
      "\n",
      "2022-03-07 07:15:49 (6,92 MB/s) - “taxi+_zone_lookup.csv.1” salvo [12322/12322]\n",
      "\n"
     ]
    }
   ],
   "source": [
    "!wget https://s3.amazonaws.com/nyc-tlc/misc/taxi+_zone_lookup.csv"
   ]
  },
  {
   "cell_type": "code",
   "execution_count": 3,
   "id": "869612dc",
   "metadata": {},
   "outputs": [
    {
     "name": "stdout",
     "output_type": "stream",
     "text": [
      "266 taxi+_zone_lookup.csv\r\n"
     ]
    }
   ],
   "source": [
    "!wc -l taxi+_zone_lookup.csv"
   ]
  },
  {
   "cell_type": "code",
   "execution_count": 4,
   "id": "74cad4db",
   "metadata": {},
   "outputs": [
    {
     "name": "stdout",
     "output_type": "stream",
     "text": [
      "\"LocationID\",\"Borough\",\"Zone\",\"service_zone\"\r",
      "\r\n",
      "1,\"EWR\",\"Newark Airport\",\"EWR\"\r",
      "\r\n",
      "2,\"Queens\",\"Jamaica Bay\",\"Boro Zone\"\r",
      "\r\n",
      "3,\"Bronx\",\"Allerton/Pelham Gardens\",\"Boro Zone\"\r",
      "\r\n",
      "4,\"Manhattan\",\"Alphabet City\",\"Yellow Zone\"\r",
      "\r\n",
      "5,\"Staten Island\",\"Arden Heights\",\"Boro Zone\"\r",
      "\r\n",
      "6,\"Staten Island\",\"Arrochar/Fort Wadsworth\",\"Boro Zone\"\r",
      "\r\n",
      "7,\"Queens\",\"Astoria\",\"Boro Zone\"\r",
      "\r\n",
      "8,\"Queens\",\"Astoria Park\",\"Boro Zone\"\r",
      "\r\n",
      "9,\"Queens\",\"Auburndale\",\"Boro Zone\"\r",
      "\r\n"
     ]
    }
   ],
   "source": [
    "!head taxi+_zone_lookup.csv"
   ]
  },
  {
   "cell_type": "code",
   "execution_count": 13,
   "id": "b92946eb",
   "metadata": {},
   "outputs": [],
   "source": [
    "schema_lookup = types.StructType([\n",
    "    types.StructField('LocationID', types.IntegerType(), True),\n",
    "    types.StructField('Borough', types.StringType(), True),\n",
    "    types.StructField('Zone', types.StringType(), True),\n",
    "    types.StructField('service_zone', types.StringType(), True)\n",
    "])"
   ]
  },
  {
   "cell_type": "code",
   "execution_count": 15,
   "id": "1793134f",
   "metadata": {},
   "outputs": [],
   "source": [
    "df_q6 = df \\\n",
    "   .select('PULocationID', 'DOLocationID')"
   ]
  },
  {
   "cell_type": "code",
   "execution_count": 19,
   "id": "1a622fda",
   "metadata": {},
   "outputs": [
    {
     "name": "stdout",
     "output_type": "stream",
     "text": [
      "+------------+------------+\n",
      "|PULocationID|DOLocationID|\n",
      "+------------+------------+\n",
      "|          94|          69|\n",
      "|         205|         132|\n",
      "|         159|         168|\n",
      "|          62|          49|\n",
      "|         234|         232|\n",
      "|         152|          80|\n",
      "|          75|          74|\n",
      "|         241|         153|\n",
      "|         157|         198|\n",
      "|         236|         239|\n",
      "|         143|         239|\n",
      "|         174|         168|\n",
      "|          26|          26|\n",
      "|         149|         210|\n",
      "|          80|          71|\n",
      "|         228|          97|\n",
      "|         229|         236|\n",
      "|          79|         234|\n",
      "|         229|          33|\n",
      "|          10|         216|\n",
      "+------------+------------+\n",
      "only showing top 20 rows\n",
      "\n"
     ]
    }
   ],
   "source": [
    "df_q6.show()"
   ]
  },
  {
   "cell_type": "code",
   "execution_count": 16,
   "id": "9de331fa",
   "metadata": {},
   "outputs": [],
   "source": [
    "df_q6.registerTempTable('df_q6')"
   ]
  },
  {
   "cell_type": "code",
   "execution_count": 22,
   "id": "84767477",
   "metadata": {},
   "outputs": [],
   "source": [
    "df_lookup = spark.read \\\n",
    "    .option(\"header\", \"true\") \\\n",
    "    .schema(schema_lookup) \\\n",
    "    .csv('taxi+_zone_lookup.csv')"
   ]
  },
  {
   "cell_type": "code",
   "execution_count": 23,
   "id": "26481826",
   "metadata": {},
   "outputs": [],
   "source": [
    "df_lookup.registerTempTable('df_lookup')"
   ]
  },
  {
   "cell_type": "code",
   "execution_count": 24,
   "id": "43c869ad",
   "metadata": {},
   "outputs": [
    {
     "name": "stdout",
     "output_type": "stream",
     "text": [
      "+----------+-------------+--------------------+------------+\n",
      "|LocationID|      Borough|                Zone|service_zone|\n",
      "+----------+-------------+--------------------+------------+\n",
      "|         1|          EWR|      Newark Airport|         EWR|\n",
      "|         2|       Queens|         Jamaica Bay|   Boro Zone|\n",
      "|         3|        Bronx|Allerton/Pelham G...|   Boro Zone|\n",
      "|         4|    Manhattan|       Alphabet City| Yellow Zone|\n",
      "|         5|Staten Island|       Arden Heights|   Boro Zone|\n",
      "|         6|Staten Island|Arrochar/Fort Wad...|   Boro Zone|\n",
      "|         7|       Queens|             Astoria|   Boro Zone|\n",
      "|         8|       Queens|        Astoria Park|   Boro Zone|\n",
      "|         9|       Queens|          Auburndale|   Boro Zone|\n",
      "|        10|       Queens|        Baisley Park|   Boro Zone|\n",
      "|        11|     Brooklyn|          Bath Beach|   Boro Zone|\n",
      "|        12|    Manhattan|        Battery Park| Yellow Zone|\n",
      "|        13|    Manhattan|   Battery Park City| Yellow Zone|\n",
      "|        14|     Brooklyn|           Bay Ridge|   Boro Zone|\n",
      "|        15|       Queens|Bay Terrace/Fort ...|   Boro Zone|\n",
      "|        16|       Queens|             Bayside|   Boro Zone|\n",
      "|        17|     Brooklyn|             Bedford|   Boro Zone|\n",
      "|        18|        Bronx|        Bedford Park|   Boro Zone|\n",
      "|        19|       Queens|           Bellerose|   Boro Zone|\n",
      "|        20|        Bronx|             Belmont|   Boro Zone|\n",
      "+----------+-------------+--------------------+------------+\n",
      "only showing top 20 rows\n",
      "\n"
     ]
    }
   ],
   "source": [
    "df_lookup.show()"
   ]
  },
  {
   "cell_type": "code",
   "execution_count": 34,
   "id": "a8912a74",
   "metadata": {},
   "outputs": [
    {
     "name": "stderr",
     "output_type": "stream",
     "text": [
      "                                                                                \r"
     ]
    }
   ],
   "source": [
    "df_result = spark.sql(\"\"\"\n",
    "SELECT\n",
    "    pu.LocationID,\n",
    "    do.LocationID,\n",
    "    COALESCE(NULLIF(NULLIF(pu.Zone, 'NA'), 'NV'), 'Unknown') || ' / ' || COALESCE(NULLIF(NULLIF(do.Zone, 'NA'), 'NV'), 'Unknown') AS trip_itinerary,\n",
    "    COUNT(1) AS qty\n",
    "FROM\n",
    "    df_q6 q6\n",
    "INNER JOIN\n",
    "    df_lookup pu\n",
    "ON\n",
    "    q6.PULocationID = pu.LocationID\n",
    "INNER JOIN\n",
    "    df_lookup do\n",
    "ON\n",
    "    q6.DOLocationID = do.LocationID\n",
    "GROUP BY\n",
    "    pu.LocationID,\n",
    "    do.LocationID,\n",
    "    trip_itinerary\n",
    "ORDER BY\n",
    "    qty DESC\n",
    "\"\"\").toPandas()\n",
    "\n",
    "#df_result.show()"
   ]
  },
  {
   "cell_type": "code",
   "execution_count": 37,
   "id": "faecee9b",
   "metadata": {},
   "outputs": [
    {
     "data": {
      "text/html": [
       "<div>\n",
       "<style scoped>\n",
       "    .dataframe tbody tr th:only-of-type {\n",
       "        vertical-align: middle;\n",
       "    }\n",
       "\n",
       "    .dataframe tbody tr th {\n",
       "        vertical-align: top;\n",
       "    }\n",
       "\n",
       "    .dataframe thead th {\n",
       "        text-align: right;\n",
       "    }\n",
       "</style>\n",
       "<table border=\"1\" class=\"dataframe\">\n",
       "  <thead>\n",
       "    <tr style=\"text-align: right;\">\n",
       "      <th></th>\n",
       "      <th>LocationID</th>\n",
       "      <th>LocationID</th>\n",
       "      <th>trip_itinerary</th>\n",
       "      <th>qty</th>\n",
       "    </tr>\n",
       "  </thead>\n",
       "  <tbody>\n",
       "    <tr>\n",
       "      <th>0</th>\n",
       "      <td>76</td>\n",
       "      <td>76</td>\n",
       "      <td>East New York / East New York</td>\n",
       "      <td>45041</td>\n",
       "    </tr>\n",
       "    <tr>\n",
       "      <th>1</th>\n",
       "      <td>26</td>\n",
       "      <td>26</td>\n",
       "      <td>Borough Park / Borough Park</td>\n",
       "      <td>37329</td>\n",
       "    </tr>\n",
       "    <tr>\n",
       "      <th>2</th>\n",
       "      <td>39</td>\n",
       "      <td>39</td>\n",
       "      <td>Canarsie / Canarsie</td>\n",
       "      <td>28026</td>\n",
       "    </tr>\n",
       "    <tr>\n",
       "      <th>3</th>\n",
       "      <td>61</td>\n",
       "      <td>61</td>\n",
       "      <td>Crown Heights North / Crown Heights North</td>\n",
       "      <td>25976</td>\n",
       "    </tr>\n",
       "    <tr>\n",
       "      <th>4</th>\n",
       "      <td>14</td>\n",
       "      <td>14</td>\n",
       "      <td>Bay Ridge / Bay Ridge</td>\n",
       "      <td>17934</td>\n",
       "    </tr>\n",
       "    <tr>\n",
       "      <th>5</th>\n",
       "      <td>129</td>\n",
       "      <td>129</td>\n",
       "      <td>Jackson Heights / Jackson Heights</td>\n",
       "      <td>14688</td>\n",
       "    </tr>\n",
       "    <tr>\n",
       "      <th>6</th>\n",
       "      <td>7</td>\n",
       "      <td>7</td>\n",
       "      <td>Astoria / Astoria</td>\n",
       "      <td>14688</td>\n",
       "    </tr>\n",
       "    <tr>\n",
       "      <th>7</th>\n",
       "      <td>42</td>\n",
       "      <td>42</td>\n",
       "      <td>Central Harlem North / Central Harlem North</td>\n",
       "      <td>14481</td>\n",
       "    </tr>\n",
       "    <tr>\n",
       "      <th>8</th>\n",
       "      <td>37</td>\n",
       "      <td>37</td>\n",
       "      <td>Bushwick South / Bushwick South</td>\n",
       "      <td>14424</td>\n",
       "    </tr>\n",
       "    <tr>\n",
       "      <th>9</th>\n",
       "      <td>89</td>\n",
       "      <td>89</td>\n",
       "      <td>Flatbush/Ditmas Park / Flatbush/Ditmas Park</td>\n",
       "      <td>13976</td>\n",
       "    </tr>\n",
       "    <tr>\n",
       "      <th>10</th>\n",
       "      <td>216</td>\n",
       "      <td>216</td>\n",
       "      <td>South Ozone Park / South Ozone Park</td>\n",
       "      <td>13716</td>\n",
       "    </tr>\n",
       "    <tr>\n",
       "      <th>11</th>\n",
       "      <td>35</td>\n",
       "      <td>35</td>\n",
       "      <td>Brownsville / Brownsville</td>\n",
       "      <td>12829</td>\n",
       "    </tr>\n",
       "    <tr>\n",
       "      <th>12</th>\n",
       "      <td>132</td>\n",
       "      <td>265</td>\n",
       "      <td>JFK Airport / Unknown</td>\n",
       "      <td>12542</td>\n",
       "    </tr>\n",
       "    <tr>\n",
       "      <th>13</th>\n",
       "      <td>188</td>\n",
       "      <td>61</td>\n",
       "      <td>Prospect-Lefferts Gardens / Crown Heights North</td>\n",
       "      <td>11814</td>\n",
       "    </tr>\n",
       "    <tr>\n",
       "      <th>14</th>\n",
       "      <td>95</td>\n",
       "      <td>95</td>\n",
       "      <td>Forest Hills / Forest Hills</td>\n",
       "      <td>11548</td>\n",
       "    </tr>\n",
       "    <tr>\n",
       "      <th>15</th>\n",
       "      <td>36</td>\n",
       "      <td>37</td>\n",
       "      <td>Bushwick North / Bushwick South</td>\n",
       "      <td>11491</td>\n",
       "    </tr>\n",
       "    <tr>\n",
       "      <th>16</th>\n",
       "      <td>37</td>\n",
       "      <td>36</td>\n",
       "      <td>Bushwick South / Bushwick North</td>\n",
       "      <td>11487</td>\n",
       "    </tr>\n",
       "    <tr>\n",
       "      <th>17</th>\n",
       "      <td>61</td>\n",
       "      <td>188</td>\n",
       "      <td>Crown Heights North / Prospect-Lefferts Gardens</td>\n",
       "      <td>11462</td>\n",
       "    </tr>\n",
       "    <tr>\n",
       "      <th>18</th>\n",
       "      <td>61</td>\n",
       "      <td>225</td>\n",
       "      <td>Crown Heights North / Stuyvesant Heights</td>\n",
       "      <td>11342</td>\n",
       "    </tr>\n",
       "    <tr>\n",
       "      <th>19</th>\n",
       "      <td>188</td>\n",
       "      <td>188</td>\n",
       "      <td>Prospect-Lefferts Gardens / Prospect-Lefferts ...</td>\n",
       "      <td>11308</td>\n",
       "    </tr>\n",
       "    <tr>\n",
       "      <th>20</th>\n",
       "      <td>225</td>\n",
       "      <td>61</td>\n",
       "      <td>Stuyvesant Heights / Crown Heights North</td>\n",
       "      <td>11293</td>\n",
       "    </tr>\n",
       "    <tr>\n",
       "      <th>21</th>\n",
       "      <td>35</td>\n",
       "      <td>76</td>\n",
       "      <td>Brownsville / East New York</td>\n",
       "      <td>11244</td>\n",
       "    </tr>\n",
       "    <tr>\n",
       "      <th>22</th>\n",
       "      <td>17</td>\n",
       "      <td>17</td>\n",
       "      <td>Bedford / Bedford</td>\n",
       "      <td>11021</td>\n",
       "    </tr>\n",
       "    <tr>\n",
       "      <th>23</th>\n",
       "      <td>39</td>\n",
       "      <td>76</td>\n",
       "      <td>Canarsie / East New York</td>\n",
       "      <td>10688</td>\n",
       "    </tr>\n",
       "    <tr>\n",
       "      <th>24</th>\n",
       "      <td>225</td>\n",
       "      <td>225</td>\n",
       "      <td>Stuyvesant Heights / Stuyvesant Heights</td>\n",
       "      <td>10675</td>\n",
       "    </tr>\n",
       "    <tr>\n",
       "      <th>25</th>\n",
       "      <td>76</td>\n",
       "      <td>35</td>\n",
       "      <td>East New York / Brownsville</td>\n",
       "      <td>10621</td>\n",
       "    </tr>\n",
       "    <tr>\n",
       "      <th>26</th>\n",
       "      <td>82</td>\n",
       "      <td>82</td>\n",
       "      <td>Elmhurst / Elmhurst</td>\n",
       "      <td>10604</td>\n",
       "    </tr>\n",
       "    <tr>\n",
       "      <th>27</th>\n",
       "      <td>213</td>\n",
       "      <td>213</td>\n",
       "      <td>Soundview/Castle Hill / Soundview/Castle Hill</td>\n",
       "      <td>10519</td>\n",
       "    </tr>\n",
       "    <tr>\n",
       "      <th>28</th>\n",
       "      <td>42</td>\n",
       "      <td>41</td>\n",
       "      <td>Central Harlem North / Central Harlem</td>\n",
       "      <td>10304</td>\n",
       "    </tr>\n",
       "    <tr>\n",
       "      <th>29</th>\n",
       "      <td>41</td>\n",
       "      <td>42</td>\n",
       "      <td>Central Harlem / Central Harlem North</td>\n",
       "      <td>10260</td>\n",
       "    </tr>\n",
       "    <tr>\n",
       "      <th>30</th>\n",
       "      <td>17</td>\n",
       "      <td>61</td>\n",
       "      <td>Bedford / Crown Heights North</td>\n",
       "      <td>10185</td>\n",
       "    </tr>\n",
       "    <tr>\n",
       "      <th>31</th>\n",
       "      <td>61</td>\n",
       "      <td>17</td>\n",
       "      <td>Crown Heights North / Bedford</td>\n",
       "      <td>10181</td>\n",
       "    </tr>\n",
       "    <tr>\n",
       "      <th>32</th>\n",
       "      <td>244</td>\n",
       "      <td>244</td>\n",
       "      <td>Washington Heights South / Washington Heights ...</td>\n",
       "      <td>10165</td>\n",
       "    </tr>\n",
       "    <tr>\n",
       "      <th>33</th>\n",
       "      <td>259</td>\n",
       "      <td>265</td>\n",
       "      <td>Woodlawn/Wakefield / Unknown</td>\n",
       "      <td>10091</td>\n",
       "    </tr>\n",
       "    <tr>\n",
       "      <th>34</th>\n",
       "      <td>181</td>\n",
       "      <td>181</td>\n",
       "      <td>Park Slope / Park Slope</td>\n",
       "      <td>9771</td>\n",
       "    </tr>\n",
       "    <tr>\n",
       "      <th>35</th>\n",
       "      <td>77</td>\n",
       "      <td>76</td>\n",
       "      <td>East New York/Pennsylvania Avenue / East New York</td>\n",
       "      <td>9748</td>\n",
       "    </tr>\n",
       "    <tr>\n",
       "      <th>36</th>\n",
       "      <td>7</td>\n",
       "      <td>223</td>\n",
       "      <td>Astoria / Steinway</td>\n",
       "      <td>9465</td>\n",
       "    </tr>\n",
       "    <tr>\n",
       "      <th>37</th>\n",
       "      <td>198</td>\n",
       "      <td>198</td>\n",
       "      <td>Ridgewood / Ridgewood</td>\n",
       "      <td>9425</td>\n",
       "    </tr>\n",
       "    <tr>\n",
       "      <th>38</th>\n",
       "      <td>76</td>\n",
       "      <td>39</td>\n",
       "      <td>East New York / Canarsie</td>\n",
       "      <td>9338</td>\n",
       "    </tr>\n",
       "    <tr>\n",
       "      <th>39</th>\n",
       "      <td>91</td>\n",
       "      <td>91</td>\n",
       "      <td>Flatlands / Flatlands</td>\n",
       "      <td>9331</td>\n",
       "    </tr>\n",
       "    <tr>\n",
       "      <th>40</th>\n",
       "      <td>215</td>\n",
       "      <td>130</td>\n",
       "      <td>South Jamaica / Jamaica</td>\n",
       "      <td>9288</td>\n",
       "    </tr>\n",
       "    <tr>\n",
       "      <th>41</th>\n",
       "      <td>76</td>\n",
       "      <td>77</td>\n",
       "      <td>East New York / East New York/Pennsylvania Avenue</td>\n",
       "      <td>9162</td>\n",
       "    </tr>\n",
       "    <tr>\n",
       "      <th>42</th>\n",
       "      <td>223</td>\n",
       "      <td>7</td>\n",
       "      <td>Steinway / Astoria</td>\n",
       "      <td>8963</td>\n",
       "    </tr>\n",
       "    <tr>\n",
       "      <th>43</th>\n",
       "      <td>254</td>\n",
       "      <td>254</td>\n",
       "      <td>Williamsbridge/Olinville / Williamsbridge/Olin...</td>\n",
       "      <td>8931</td>\n",
       "    </tr>\n",
       "    <tr>\n",
       "      <th>44</th>\n",
       "      <td>74</td>\n",
       "      <td>75</td>\n",
       "      <td>East Harlem North / East Harlem South</td>\n",
       "      <td>8910</td>\n",
       "    </tr>\n",
       "    <tr>\n",
       "      <th>45</th>\n",
       "      <td>37</td>\n",
       "      <td>225</td>\n",
       "      <td>Bushwick South / Stuyvesant Heights</td>\n",
       "      <td>8822</td>\n",
       "    </tr>\n",
       "    <tr>\n",
       "      <th>46</th>\n",
       "      <td>42</td>\n",
       "      <td>74</td>\n",
       "      <td>Central Harlem North / East Harlem North</td>\n",
       "      <td>8662</td>\n",
       "    </tr>\n",
       "    <tr>\n",
       "      <th>47</th>\n",
       "      <td>225</td>\n",
       "      <td>17</td>\n",
       "      <td>Stuyvesant Heights / Bedford</td>\n",
       "      <td>8654</td>\n",
       "    </tr>\n",
       "    <tr>\n",
       "      <th>48</th>\n",
       "      <td>17</td>\n",
       "      <td>225</td>\n",
       "      <td>Bedford / Stuyvesant Heights</td>\n",
       "      <td>8614</td>\n",
       "    </tr>\n",
       "    <tr>\n",
       "      <th>49</th>\n",
       "      <td>205</td>\n",
       "      <td>205</td>\n",
       "      <td>Saint Albans / Saint Albans</td>\n",
       "      <td>8602</td>\n",
       "    </tr>\n",
       "  </tbody>\n",
       "</table>\n",
       "</div>"
      ],
      "text/plain": [
       "    LocationID  LocationID                                     trip_itinerary  \\\n",
       "0           76          76                      East New York / East New York   \n",
       "1           26          26                        Borough Park / Borough Park   \n",
       "2           39          39                                Canarsie / Canarsie   \n",
       "3           61          61          Crown Heights North / Crown Heights North   \n",
       "4           14          14                              Bay Ridge / Bay Ridge   \n",
       "5          129         129                  Jackson Heights / Jackson Heights   \n",
       "6            7           7                                  Astoria / Astoria   \n",
       "7           42          42        Central Harlem North / Central Harlem North   \n",
       "8           37          37                    Bushwick South / Bushwick South   \n",
       "9           89          89        Flatbush/Ditmas Park / Flatbush/Ditmas Park   \n",
       "10         216         216                South Ozone Park / South Ozone Park   \n",
       "11          35          35                          Brownsville / Brownsville   \n",
       "12         132         265                              JFK Airport / Unknown   \n",
       "13         188          61    Prospect-Lefferts Gardens / Crown Heights North   \n",
       "14          95          95                        Forest Hills / Forest Hills   \n",
       "15          36          37                    Bushwick North / Bushwick South   \n",
       "16          37          36                    Bushwick South / Bushwick North   \n",
       "17          61         188    Crown Heights North / Prospect-Lefferts Gardens   \n",
       "18          61         225           Crown Heights North / Stuyvesant Heights   \n",
       "19         188         188  Prospect-Lefferts Gardens / Prospect-Lefferts ...   \n",
       "20         225          61           Stuyvesant Heights / Crown Heights North   \n",
       "21          35          76                        Brownsville / East New York   \n",
       "22          17          17                                  Bedford / Bedford   \n",
       "23          39          76                           Canarsie / East New York   \n",
       "24         225         225            Stuyvesant Heights / Stuyvesant Heights   \n",
       "25          76          35                        East New York / Brownsville   \n",
       "26          82          82                                Elmhurst / Elmhurst   \n",
       "27         213         213      Soundview/Castle Hill / Soundview/Castle Hill   \n",
       "28          42          41              Central Harlem North / Central Harlem   \n",
       "29          41          42              Central Harlem / Central Harlem North   \n",
       "30          17          61                      Bedford / Crown Heights North   \n",
       "31          61          17                      Crown Heights North / Bedford   \n",
       "32         244         244  Washington Heights South / Washington Heights ...   \n",
       "33         259         265                       Woodlawn/Wakefield / Unknown   \n",
       "34         181         181                            Park Slope / Park Slope   \n",
       "35          77          76  East New York/Pennsylvania Avenue / East New York   \n",
       "36           7         223                                 Astoria / Steinway   \n",
       "37         198         198                              Ridgewood / Ridgewood   \n",
       "38          76          39                           East New York / Canarsie   \n",
       "39          91          91                              Flatlands / Flatlands   \n",
       "40         215         130                            South Jamaica / Jamaica   \n",
       "41          76          77  East New York / East New York/Pennsylvania Avenue   \n",
       "42         223           7                                 Steinway / Astoria   \n",
       "43         254         254  Williamsbridge/Olinville / Williamsbridge/Olin...   \n",
       "44          74          75              East Harlem North / East Harlem South   \n",
       "45          37         225                Bushwick South / Stuyvesant Heights   \n",
       "46          42          74           Central Harlem North / East Harlem North   \n",
       "47         225          17                       Stuyvesant Heights / Bedford   \n",
       "48          17         225                       Bedford / Stuyvesant Heights   \n",
       "49         205         205                        Saint Albans / Saint Albans   \n",
       "\n",
       "      qty  \n",
       "0   45041  \n",
       "1   37329  \n",
       "2   28026  \n",
       "3   25976  \n",
       "4   17934  \n",
       "5   14688  \n",
       "6   14688  \n",
       "7   14481  \n",
       "8   14424  \n",
       "9   13976  \n",
       "10  13716  \n",
       "11  12829  \n",
       "12  12542  \n",
       "13  11814  \n",
       "14  11548  \n",
       "15  11491  \n",
       "16  11487  \n",
       "17  11462  \n",
       "18  11342  \n",
       "19  11308  \n",
       "20  11293  \n",
       "21  11244  \n",
       "22  11021  \n",
       "23  10688  \n",
       "24  10675  \n",
       "25  10621  \n",
       "26  10604  \n",
       "27  10519  \n",
       "28  10304  \n",
       "29  10260  \n",
       "30  10185  \n",
       "31  10181  \n",
       "32  10165  \n",
       "33  10091  \n",
       "34   9771  \n",
       "35   9748  \n",
       "36   9465  \n",
       "37   9425  \n",
       "38   9338  \n",
       "39   9331  \n",
       "40   9288  \n",
       "41   9162  \n",
       "42   8963  \n",
       "43   8931  \n",
       "44   8910  \n",
       "45   8822  \n",
       "46   8662  \n",
       "47   8654  \n",
       "48   8614  \n",
       "49   8602  "
      ]
     },
     "execution_count": 37,
     "metadata": {},
     "output_type": "execute_result"
    }
   ],
   "source": [
    "df_result.head(50)"
   ]
  }
 ],
 "metadata": {
  "kernelspec": {
   "display_name": "Python 3 (ipykernel)",
   "language": "python",
   "name": "python3"
  },
  "language_info": {
   "codemirror_mode": {
    "name": "ipython",
    "version": 3
   },
   "file_extension": ".py",
   "mimetype": "text/x-python",
   "name": "python",
   "nbconvert_exporter": "python",
   "pygments_lexer": "ipython3",
   "version": "3.9.7"
  }
 },
 "nbformat": 4,
 "nbformat_minor": 5
}
